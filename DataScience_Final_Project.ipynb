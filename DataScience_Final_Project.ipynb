{
 "cells": [
  {
   "cell_type": "markdown",
   "id": "65211e55",
   "metadata": {},
   "source": [
    "# Introduction to Data Science Tools"
   ]
  },
  {
   "cell_type": "markdown",
   "id": "bb1bf743",
   "metadata": {},
   "source": [
    "## Introduction\n",
    "This notebook introduces basic data science concepts, programming languages, libraries, and tools. It also demonstrates simple arithmetic operations and unit conversions."
   ]
  },
  {
   "cell_type": "markdown",
   "id": "bf7575b4",
   "metadata": {},
   "source": [
    "## Data Science Languages\n",
    "- Python\n",
    "- R\n",
    "- SQL\n",
    "- Julia\n",
    "- Scala"
   ]
  },
  {
   "cell_type": "markdown",
   "id": "9830ab0d",
   "metadata": {},
   "source": [
    "## Data Science Libraries\n",
    "- NumPy\n",
    "- Pandas\n",
    "- Matplotlib\n",
    "- Seaborn\n",
    "- Scikit-learn\n",
    "- TensorFlow\n",
    "- ggplot2 (for R)"
   ]
  },
  {
   "cell_type": "markdown",
   "id": "c7e97340",
   "metadata": {},
   "source": [
    "## Data Science Tools\n",
    "| Tool             | Type                          |\n",
    "|-----------------|-------------------------------|\n",
    "| Jupyter Notebook | Notebook Environment          |\n",
    "| RStudio          | IDE for R                     |\n",
    "| GitHub           | Version Control               |\n",
    "| Watson Studio    | Cloud Data Science Platform   |"
   ]
  },
  {
   "cell_type": "markdown",
   "id": "bdbe894c",
   "metadata": {},
   "source": [
    "## Arithmetic Expression Examples\n",
    "We will perform basic arithmetic operations like addition, multiplication, and unit conversion."
   ]
  },
  {
   "cell_type": "code",
   "execution_count": null,
   "id": "2e36a706",
   "metadata": {},
   "outputs": [],
   "source": [
    "# Multiplication and addition\n",
    "a = 5\n",
    "b = 10\n",
    "c = a * b\n",
    "d = a + b\n",
    "\n",
    "print(\"Multiplication:\", c)\n",
    "print(\"Addition:\", d)"
   ]
  },
  {
   "cell_type": "code",
   "execution_count": null,
   "id": "ace5d3ac",
   "metadata": {},
   "outputs": [],
   "source": [
    "# Convert minutes to hours\n",
    "minutes = 135\n",
    "hours = minutes / 60\n",
    "print(f\"{minutes} minutes is equal to {hours} hours\")"
   ]
  },
  {
   "cell_type": "markdown",
   "id": "cfa4b5cc",
   "metadata": {},
   "source": [
    "## Objectives\n",
    "1. Learn about data science languages, libraries, and tools\n",
    "2. Practice arithmetic operations in Python\n",
    "3. Perform basic unit conversions\n",
    "4. Learn how to present data in tables and Markdown"
   ]
  },
  {
   "cell_type": "markdown",
   "id": "0640fc79",
   "metadata": {},
   "source": [
    "## Author\n",
    "Shraddha Bhakare"
   ]
  }
 ],
 "metadata": {
  "kernelspec": {
   "display_name": "Python 3",
   "language": "python",
   "name": "python3"
  },
  "language_info": {
   "name": "python",
   "version": "3.9"
  }
 },
 "nbformat": 4,
 "nbformat_minor": 5
}
